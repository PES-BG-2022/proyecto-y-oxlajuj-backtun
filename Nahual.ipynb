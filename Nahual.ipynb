{
 "cells": [
  {
   "cell_type": "code",
   "execution_count": null,
   "metadata": {},
   "outputs": [],
   "source": []
  },
  {
   "cell_type": "code",
   "execution_count": 48,
   "metadata": {},
   "outputs": [],
   "source": [
    "def dias(día1,mes1,año1,día2, mes2, año2):\n",
    "\n",
    "    def bisiesto(año):\n",
    "        return año%4==0 and año%100 !=0 or año%400 !=0\n",
    "    if año1<año2:\n",
    "        if bisiesto(año1)==False:\n",
    "            mes=[0,31,28,31,30,31,30,31,31,30,31,30,31]\n",
    "        else:\n",
    "            mes=[0,31,29,31,30,31,30,31,31,30,31,30,31]\n",
    "        \n",
    "        residuo_mes=mes[mes1]-día1\n",
    "        residuo_año=0\n",
    "        i=mes1+1\n",
    "\n",
    "        while i<=12:\n",
    "            residuo_año=residuo_año+mes[i]\n",
    "            i=i+1\n",
    "        primeraño=residuo_mes+residuo_año\n",
    "\n",
    "        sum_año=año1+1\n",
    "        total_días=0\n",
    "\n",
    "        while (sum_año<año2):\n",
    "            if bisiesto(sum_año)==False:\n",
    "                total_días=total_días+365\n",
    "                sum_año=sum_año+1\n",
    "            else:\n",
    "                total_días=total_días+366\n",
    "                sum_año=sum_año+1\n",
    "\n",
    "        if bisiesto(año2)==False:\n",
    "            mes=[0,31,28,31,30,31,30,31,31,30,31,30,31]\n",
    "        else:\n",
    "            mes=[0,31,29,31,30,31,30,31,31,30,31,30,31]\n",
    "\n",
    "        mas_año=0\n",
    "        ultimo_año=0\n",
    "        i=1\n",
    "        while i<mes2:\n",
    "            mas_año=mas_año+mes[i]\n",
    "            i=i+1\n",
    "        ultimo_año=día2+mas_año\n",
    "        return total_días+primeraño+ultimo_año\n",
    "\n",
    "    else:\n",
    "\n",
    "        if bisiesto(año1)==False:\n",
    "            mes=[0,31,28,31,30,31,30,31,31,30,31,30,31]\n",
    "        else:\n",
    "            mes=[0,31,29,31,30,31,30,31,31,30,31,30,31]\n",
    "        \n",
    "        mas_año=0\n",
    "        total=0\n",
    "        i=mes1\n",
    "\n",
    "        if i<mes2:\n",
    "            while i<mes2:\n",
    "                mas_año=mas_año+mes[i]\n",
    "                i=i+1\n",
    "            total=día2+mas_año-1\n",
    "            return total\n",
    "        else:\n",
    "            total = día2-día1\n",
    "            return total\n",
    "                \n",
    "\n"
   ]
  },
  {
   "cell_type": "code",
   "execution_count": 49,
   "metadata": {},
   "outputs": [
    {
     "ename": "KeyboardInterrupt",
     "evalue": "",
     "output_type": "error",
     "traceback": [
      "\u001b[1;31m---------------------------------------------------------------------------\u001b[0m",
      "\u001b[1;31mKeyboardInterrupt\u001b[0m                         Traceback (most recent call last)",
      "\u001b[1;32mC:\\Users\\Public\\Documents\\Wondershare\\CreatorTemp/ipykernel_444/3262591340.py\u001b[0m in \u001b[0;36m<module>\u001b[1;34m\u001b[0m\n\u001b[1;32m----> 1\u001b[1;33m \u001b[0mdias\u001b[0m\u001b[1;33m(\u001b[0m\u001b[1;36m1\u001b[0m\u001b[1;33m,\u001b[0m\u001b[1;36m1\u001b[0m\u001b[1;33m,\u001b[0m\u001b[1;36m1900\u001b[0m\u001b[1;33m,\u001b[0m\u001b[1;36m26\u001b[0m\u001b[1;33m,\u001b[0m \u001b[1;36m10\u001b[0m\u001b[1;33m,\u001b[0m \u001b[1;36m1999\u001b[0m\u001b[1;33m)\u001b[0m\u001b[1;33m\u001b[0m\u001b[1;33m\u001b[0m\u001b[0m\n\u001b[0m",
      "\u001b[1;32mC:\\Users\\Public\\Documents\\Wondershare\\CreatorTemp/ipykernel_444/3860470314.py\u001b[0m in \u001b[0;36mdias\u001b[1;34m(día1, mes1, año1, día2, mes2, año2)\u001b[0m\n\u001b[0;32m     22\u001b[0m \u001b[1;33m\u001b[0m\u001b[0m\n\u001b[0;32m     23\u001b[0m         \u001b[1;32mwhile\u001b[0m \u001b[1;33m(\u001b[0m\u001b[0msum_año\u001b[0m\u001b[1;33m<\u001b[0m\u001b[0maño2\u001b[0m\u001b[1;33m)\u001b[0m\u001b[1;33m:\u001b[0m\u001b[1;33m\u001b[0m\u001b[1;33m\u001b[0m\u001b[0m\n\u001b[1;32m---> 24\u001b[1;33m             \u001b[1;32mif\u001b[0m \u001b[0mbisiesto\u001b[0m\u001b[1;33m(\u001b[0m\u001b[0msum_año\u001b[0m\u001b[1;33m)\u001b[0m\u001b[1;33m==\u001b[0m\u001b[1;32mFalse\u001b[0m\u001b[1;33m:\u001b[0m\u001b[1;33m\u001b[0m\u001b[1;33m\u001b[0m\u001b[0m\n\u001b[0m\u001b[0;32m     25\u001b[0m                 \u001b[0mtotal_días\u001b[0m\u001b[1;33m=\u001b[0m\u001b[0mtotal_días\u001b[0m\u001b[1;33m+\u001b[0m\u001b[1;36m365\u001b[0m\u001b[1;33m\u001b[0m\u001b[1;33m\u001b[0m\u001b[0m\n\u001b[0;32m     26\u001b[0m                 \u001b[0msum_año\u001b[0m\u001b[1;33m=\u001b[0m\u001b[0msum_año\u001b[0m\u001b[1;33m\u001b[0m\u001b[1;33m\u001b[0m\u001b[0m\n",
      "\u001b[1;32mC:\\Users\\Public\\Documents\\Wondershare\\CreatorTemp/ipykernel_444/3860470314.py\u001b[0m in \u001b[0;36mbisiesto\u001b[1;34m(año)\u001b[0m\n\u001b[0;32m      2\u001b[0m \u001b[1;33m\u001b[0m\u001b[0m\n\u001b[0;32m      3\u001b[0m     \u001b[1;32mdef\u001b[0m \u001b[0mbisiesto\u001b[0m\u001b[1;33m(\u001b[0m\u001b[0maño\u001b[0m\u001b[1;33m)\u001b[0m\u001b[1;33m:\u001b[0m\u001b[1;33m\u001b[0m\u001b[1;33m\u001b[0m\u001b[0m\n\u001b[1;32m----> 4\u001b[1;33m         \u001b[1;32mreturn\u001b[0m \u001b[0maño\u001b[0m\u001b[1;33m%\u001b[0m\u001b[1;36m4\u001b[0m\u001b[1;33m==\u001b[0m\u001b[1;36m0\u001b[0m \u001b[1;32mand\u001b[0m \u001b[0maño\u001b[0m\u001b[1;33m%\u001b[0m\u001b[1;36m100\u001b[0m \u001b[1;33m!=\u001b[0m\u001b[1;36m0\u001b[0m \u001b[1;32mor\u001b[0m \u001b[0maño\u001b[0m\u001b[1;33m%\u001b[0m\u001b[1;36m400\u001b[0m \u001b[1;33m!=\u001b[0m\u001b[1;36m0\u001b[0m\u001b[1;33m\u001b[0m\u001b[1;33m\u001b[0m\u001b[0m\n\u001b[0m\u001b[0;32m      5\u001b[0m     \u001b[1;32mif\u001b[0m \u001b[0maño1\u001b[0m\u001b[1;33m<\u001b[0m\u001b[0maño2\u001b[0m\u001b[1;33m:\u001b[0m\u001b[1;33m\u001b[0m\u001b[1;33m\u001b[0m\u001b[0m\n\u001b[0;32m      6\u001b[0m         \u001b[1;32mif\u001b[0m \u001b[0mbisiesto\u001b[0m\u001b[1;33m(\u001b[0m\u001b[0maño1\u001b[0m\u001b[1;33m)\u001b[0m\u001b[1;33m==\u001b[0m\u001b[1;32mFalse\u001b[0m\u001b[1;33m:\u001b[0m\u001b[1;33m\u001b[0m\u001b[1;33m\u001b[0m\u001b[0m\n",
      "\u001b[1;31mKeyboardInterrupt\u001b[0m: "
     ]
    }
   ],
   "source": [
    "dias(1,1,1900,26, 10, 1999)"
   ]
  },
  {
   "cell_type": "code",
   "execution_count": null,
   "metadata": {},
   "outputs": [],
   "source": [
    "\n"
   ]
  }
 ],
 "metadata": {
  "interpreter": {
   "hash": "b3ba2566441a7c06988d0923437866b63cedc61552a5af99d1f4fb67d367b25f"
  },
  "kernelspec": {
   "display_name": "Python 3.9.7 64-bit ('base': conda)",
   "language": "python",
   "name": "python3"
  },
  "language_info": {
   "codemirror_mode": {
    "name": "ipython",
    "version": 3
   },
   "file_extension": ".py",
   "mimetype": "text/x-python",
   "name": "python",
   "nbconvert_exporter": "python",
   "pygments_lexer": "ipython3",
   "version": "3.9.7"
  },
  "orig_nbformat": 4
 },
 "nbformat": 4,
 "nbformat_minor": 2
}
